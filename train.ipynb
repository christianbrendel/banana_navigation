{
 "cells": [
  {
   "cell_type": "code",
   "execution_count": 1,
   "metadata": {},
   "outputs": [],
   "source": [
    "import time\n",
    "from collections import namedtuple, deque\n",
    "import numpy as np\n",
    "import pickle\n",
    "import matplotlib.pyplot as plt\n",
    "from unityagents import UnityEnvironment\n",
    "\n",
    "from agent import Agent"
   ]
  },
  {
   "cell_type": "markdown",
   "metadata": {},
   "source": [
    "# Env and Agent"
   ]
  },
  {
   "cell_type": "code",
   "execution_count": 2,
   "metadata": {},
   "outputs": [
    {
     "name": "stderr",
     "output_type": "stream",
     "text": [
      "INFO:unityagents:\n",
      "'Academy' started successfully!\n",
      "Unity Academy name: Academy\n",
      "        Number of Brains: 1\n",
      "        Number of External Brains : 1\n",
      "        Lesson number : 0\n",
      "        Reset Parameters :\n",
      "\t\t\n",
      "Unity brain name: BananaBrain\n",
      "        Number of Visual Observations (per agent): 0\n",
      "        Vector Observation space type: continuous\n",
      "        Vector Observation space size (per agent): 37\n",
      "        Number of stacked Vector Observation: 1\n",
      "        Vector Action space type: discrete\n",
      "        Vector Action space size (per agent): 4\n",
      "        Vector Action descriptions: , , , \n"
     ]
    }
   ],
   "source": [
    "# init the enviromnet\n",
    "env = UnityEnvironment(file_name=\"Banana.app\")\n",
    "brain_name = env.brain_names[0]\n",
    "brain = env.brains[brain_name]\n",
    "\n",
    "# read out the state and action size\n",
    "env_info = env.reset(train_mode=True)[brain_name]\n",
    "state_size = len(env_info.vector_observations[0])\n",
    "action_size = brain.vector_action_space_size"
   ]
  },
  {
   "cell_type": "code",
   "execution_count": 3,
   "metadata": {},
   "outputs": [],
   "source": [
    "# init agent\n",
    "agent = Agent(state_size, action_size)"
   ]
  },
  {
   "cell_type": "markdown",
   "metadata": {},
   "source": [
    "# Training"
   ]
  },
  {
   "cell_type": "code",
   "execution_count": 4,
   "metadata": {},
   "outputs": [
    {
     "name": "stdout",
     "output_type": "stream",
     "text": [
      " Time Evolved | Episode | Rolling Average Score \n",
      "--------------+---------+-----------------------\n",
      "      1.6 min |     100 |                -0.060\n",
      "      3.2 min |     200 |                -0.010\n",
      "      4.7 min |     300 |                 0.260\n",
      "      6.3 min |     400 |                 2.230\n",
      "      7.9 min |     500 |                 7.230\n",
      "      9.5 min |     600 |                 8.940\n",
      "     10.9 min |     700 |                10.540\n",
      "     12.4 min |     800 |                14.930\n",
      "     13.8 min |     900 |                15.810\n",
      "     15.4 min |    1000 |                14.890\n",
      "     16.8 min |    1100 |                15.590\n",
      "     18.2 min |    1200 |                15.680\n",
      "     19.8 min |    1300 |                16.590\n",
      "     21.2 min |    1400 |                16.560\n",
      "     22.7 min |    1500 |                17.080\n",
      "     24.2 min |    1600 |                16.830\n",
      "     25.7 min |    1700 |                16.830\n",
      "     27.1 min |    1800 |                15.760\n",
      "     28.6 min |    1900 |                16.400\n",
      "     30.1 min |    2000 |                16.180\n"
     ]
    }
   ],
   "source": [
    "# Parameter\n",
    "\n",
    "n_episodes = 2000\n",
    "n_rolling_average = 100\n",
    "update_every = 4\n",
    "epsilon = 0.01\n",
    "path_latest_model = 'model/checkpoint.pth'\n",
    "\n",
    "# ========================================================================\n",
    "\n",
    "t0 = time.time()\n",
    "scores = []\n",
    "rolling_average_scores = deque(maxlen=n_rolling_average)\n",
    "smoothed_scores = []\n",
    "best_score = -1e19\n",
    "best_episode = -1\n",
    "\n",
    "print(' Time Evolved | Episode | Rolling Average Score ')\n",
    "print('--------------+---------+-----------------------')\n",
    "\n",
    "for i in range(n_episodes):\n",
    "\n",
    "    env_info = env.reset(train_mode=True)[brain_name]\n",
    "    state = env_info.vector_observations[0]\n",
    "    score = 0\n",
    "    \n",
    "    t = 0\n",
    "    while True:\n",
    "\n",
    "        # choose action\n",
    "        action = agent.act(state, epsilon=epsilon)\n",
    "\n",
    "        # evolve environment\n",
    "        env_info = env.step(action)[brain_name]\n",
    "        next_state = env_info.vector_observations[0]\n",
    "        reward = env_info.rewards[0]                \n",
    "        done = env_info.local_done[0]               \n",
    "\n",
    "        # store experience\n",
    "        agent.store_experience(state, action, reward, next_state, done)\n",
    "        \n",
    "        # learn every update_every time step\n",
    "        if t%update_every == 0:\n",
    "            agent.learn()\n",
    "\n",
    "        # updating\n",
    "        score += reward                             \n",
    "        state = next_state   \n",
    "        t += 1\n",
    "        if done:                                  \n",
    "            break\n",
    "\n",
    "    # do the score\n",
    "    dt = (time.time()-t0)\n",
    "    scores.append(score)\n",
    "    rolling_average_scores.append(score)\n",
    "    sm = np.mean(rolling_average_scores) if len(rolling_average_scores)==n_rolling_average else np.nan\n",
    "    smoothed_scores.append(sm)\n",
    "\n",
    "    # print progress\n",
    "    print(f\"\\r {dt/60:>8.1f} min | {i+1:>7d} | {sm:>21.3f}\", end=\"\")\n",
    "    if (i+1)%n_rolling_average==0:\n",
    "        print('')\n",
    "    \n",
    "    # save network\n",
    "    agent.save_q_network(path_latest_model)\n",
    "    \n",
    "env.close()"
   ]
  },
  {
   "cell_type": "code",
   "execution_count": 5,
   "metadata": {},
   "outputs": [
    {
     "data": {
      "image/png": "[encoded data removed]",
      "text/plain": [
       "<Figure size 432x288 with 1 Axes>"
      ]
     },
     "metadata": {
      "needs_background": "light"
     },
     "output_type": "display_data"
    }
   ],
   "source": [
    "plt.plot(scores, alpha=0.5, label='scores')\n",
    "plt.plot(smoothed_scores, label='smoothed scores')\n",
    "plt.legend()\n",
    "plt.xlabel('episode')\n",
    "plt.savefig('model/training_history.png')\n",
    "plt.title(f'Total training time: {dt/60:.1f} min')\n",
    "plt.show()"
   ]
  },
  {
   "cell_type": "code",
   "execution_count": null,
   "metadata": {},
   "outputs": [],
   "source": []
  }
 ],
 "metadata": {
  "kernelspec": {
   "display_name": "Python [conda env:drlnd]",
   "language": "python",
   "name": "conda-env-drlnd-py"
  },
  "language_info": {
   "codemirror_mode": {
    "name": "ipython",
    "version": 3
   },
   "file_extension": ".py",
   "mimetype": "text/x-python",
   "name": "python",
   "nbconvert_exporter": "python",
   "pygments_lexer": "ipython3",
   "version": "3.6.12"
  }
 },
 "nbformat": 4,
 "nbformat_minor": 4
}
